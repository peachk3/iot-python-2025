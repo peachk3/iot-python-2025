{
 "cells": [
  {
   "cell_type": "markdown",
   "metadata": {},
   "source": [
    "# 1"
   ]
  },
  {
   "cell_type": "code",
   "execution_count": null,
   "metadata": {},
   "outputs": [
    {
     "name": "stdout",
     "output_type": "stream",
     "text": [
      "314.1592653589793 cm²\n"
     ]
    }
   ],
   "source": [
    "import math\n",
    "radPi = math.pi\n",
    "\n",
    "rad = int(input('반지름 값을 입력하세요 >'))\n",
    "print(radPi * (rad ** 2), 'cm²')"
   ]
  },
  {
   "cell_type": "markdown",
   "metadata": {},
   "source": [
    "# 2"
   ]
  },
  {
   "cell_type": "code",
   "execution_count": 28,
   "metadata": {},
   "outputs": [
    {
     "name": "stdout",
     "output_type": "stream",
     "text": [
      "www.pechk.com\n"
     ]
    }
   ],
   "source": [
    "adress = input('영문 이름을 입력하세요 >')\n",
    "\n",
    "def get_url(adress):\n",
    "    print(f'www.{adress}.com')\n",
    "\n",
    "url = get_url(adress)"
   ]
  },
  {
   "cell_type": "markdown",
   "metadata": {},
   "source": [
    "# 3"
   ]
  },
  {
   "cell_type": "code",
   "execution_count": 34,
   "metadata": {},
   "outputs": [
    {
     "name": "stdout",
     "output_type": "stream",
     "text": [
      "3단 시작!\n",
      "3 x 1 = 3\n",
      "3 x 2 = 6\n",
      "3 x 3 = 9\n",
      "3 x 4 = 12\n",
      "3 x 5 = 15\n",
      "3 x 6 = 18\n",
      "3 x 7 = 21\n",
      "3 x 8 = 24\n",
      "3 x 9 = 27\n"
     ]
    }
   ],
   "source": [
    "dan = int(input('구구단을 수행할 단을 입력하세요 >'))\n",
    "print(f'{dan}단 시작!')\n",
    "\n",
    "for i in range(1, 10):\n",
    "    print(f'{dan} x {i} = {dan * i}')"
   ]
  },
  {
   "cell_type": "markdown",
   "metadata": {},
   "source": [
    "# 4"
   ]
  },
  {
   "cell_type": "code",
   "execution_count": 1,
   "metadata": {},
   "outputs": [
    {
     "name": "stdout",
     "output_type": "stream",
     "text": [
      "['9', '85', '3', '4', '75']\n",
      "['75', '4', '3', '85', '9']\n"
     ]
    }
   ],
   "source": [
    "num = input('숫자를 입력하세요 ex) 1 2 3 4>').split(' ')\n",
    "print(num)\n",
    "\n",
    "lenNum = len(num)\n",
    "\n",
    "for i in range (0, lenNum):\n",
    "    popNum = num.pop()\n",
    "    num.insert(i, popNum)\n",
    "\n",
    "print(num)\n",
    "\n",
    "# 파이썬 함수 사용\n",
    "# num.reverse()\n",
    "# print(num)"
   ]
  },
  {
   "cell_type": "markdown",
   "metadata": {},
   "source": [
    "# 5"
   ]
  },
  {
   "cell_type": "code",
   "execution_count": 90,
   "metadata": {},
   "outputs": [
    {
     "name": "stdout",
     "output_type": "stream",
     "text": [
      "휴대폰 개통 성공\n",
      "휴대폰 주인은 peachK이고, 휴대폰 번호는 01012341234이고, 애플에서 만들었습니다.\n",
      "휴대폰 주인을 변경합니다.\n",
      "변경 후 휴대폰 주인은 박도경입니다.\n",
      "전화번호를 변경합니다.\n",
      "변경 후 전화번호는 01009870987입니다.\n",
      "휴대폰을 바꿉니다.\n",
      "변경 후 제조사는 삼성입니다.\n",
      "휴대폰 주인은 박도경이고, 휴대폰 번호는 01009870987이고, 삼성에서 만들었습니다.\n"
     ]
    }
   ],
   "source": [
    "class SmartPhone:\n",
    "    def __init__(self, phoneOwner = None, phoneNumber = None, company = None):\n",
    "        self.phoneOwner = phoneOwner\n",
    "        self.phoneNumber = phoneNumber\n",
    "        self.company = company\n",
    "        print('휴대폰 개통 성공')\n",
    "    \n",
    "    def __str__(self):\n",
    "        reStr = (f'휴대폰 주인은 {self.phoneOwner}이고, 휴대폰 번호는 {self.phoneNumber}이고, {self.company}에서 만들었습니다.')\n",
    "        return reStr\n",
    "\n",
    "    def set_phoneOnwer(self, owner):\n",
    "        print('휴대폰 주인을 변경합니다.')\n",
    "        self.phoneOwner = owner\n",
    "        print(f'변경 후 휴대폰 주인은 {owner}입니다.')\n",
    "    \n",
    "    def set_phoneNumber(self, number):\n",
    "        print('전화번호를 변경합니다.')\n",
    "        self.phoneNumber = number\n",
    "        print(f'변경 후 전화번호는 {number}입니다.')\n",
    "    \n",
    "    def set_company(self, company):\n",
    "        print('휴대폰을 바꿉니다.')\n",
    "        self.company = company\n",
    "        print(f'변경 후 제조사는 {company}입니다.')\n",
    "\n",
    "\n",
    "phone = SmartPhone('peachK', '01012341234', '애플')\n",
    "print(phone)\n",
    "phone.set_phoneOnwer('박도경')\n",
    "phone.set_phoneNumber('01009870987')\n",
    "phone.set_company('삼성')\n",
    "print(phone)\n"
   ]
  }
 ],
 "metadata": {
  "kernelspec": {
   "display_name": "3.11.9",
   "language": "python",
   "name": "python3"
  },
  "language_info": {
   "codemirror_mode": {
    "name": "ipython",
    "version": 3
   },
   "file_extension": ".py",
   "mimetype": "text/x-python",
   "name": "python",
   "nbconvert_exporter": "python",
   "pygments_lexer": "ipython3",
   "version": "3.11.9"
  }
 },
 "nbformat": 4,
 "nbformat_minor": 2
}
